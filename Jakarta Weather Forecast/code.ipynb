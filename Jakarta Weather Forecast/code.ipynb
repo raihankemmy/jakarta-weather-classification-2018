{
 "cells": [
  {
   "cell_type": "code",
   "execution_count": 41,
   "metadata": {},
   "outputs": [],
   "source": [
    "import numpy as np\n",
    "import pandas as pd\n",
    "\n",
    "import matplotlib.pyplot as plt\n",
    "import seaborn as sns\n",
    "\n",
    "from sklearn.model_selection import train_test_split\n",
    "from sklearn.pipeline import Pipeline\n",
    "from sklearn.compose import ColumnTransformer\n",
    "\n",
    "from jcopml.pipeline import num_pipe, cat_pipe\n",
    "from jcopml.utils import save_model, load_model\n",
    "from jcopml.plot import plot_missing_value\n",
    "from jcopml.feature_importance import mean_score_decrease"
   ]
  },
  {
   "cell_type": "code",
   "execution_count": 42,
   "metadata": {},
   "outputs": [
    {
     "data": {
      "text/html": [
       "<div>\n",
       "<style scoped>\n",
       "    .dataframe tbody tr th:only-of-type {\n",
       "        vertical-align: middle;\n",
       "    }\n",
       "\n",
       "    .dataframe tbody tr th {\n",
       "        vertical-align: top;\n",
       "    }\n",
       "\n",
       "    .dataframe thead th {\n",
       "        text-align: right;\n",
       "    }\n",
       "</style>\n",
       "<table border=\"1\" class=\"dataframe\">\n",
       "  <thead>\n",
       "    <tr style=\"text-align: right;\">\n",
       "      <th></th>\n",
       "      <th>tanggal</th>\n",
       "      <th>wilayah</th>\n",
       "      <th>waktu</th>\n",
       "      <th>cuaca</th>\n",
       "      <th>kelembaban_persen</th>\n",
       "      <th>suhu_derajat_celcius</th>\n",
       "    </tr>\n",
       "  </thead>\n",
       "  <tbody>\n",
       "    <tr>\n",
       "      <th>0</th>\n",
       "      <td>2017-01-03</td>\n",
       "      <td>Jakarta Barat</td>\n",
       "      <td>Malam</td>\n",
       "      <td>Hujan Ringan</td>\n",
       "      <td>65 - 95</td>\n",
       "      <td>22 - 31</td>\n",
       "    </tr>\n",
       "    <tr>\n",
       "      <th>1</th>\n",
       "      <td>2017-01-03</td>\n",
       "      <td>Jakarta Barat</td>\n",
       "      <td>Pagi</td>\n",
       "      <td>Hujan Ringan</td>\n",
       "      <td>65 - 95</td>\n",
       "      <td>22 - 31</td>\n",
       "    </tr>\n",
       "    <tr>\n",
       "      <th>2</th>\n",
       "      <td>2017-01-03</td>\n",
       "      <td>Jakarta Barat</td>\n",
       "      <td>Siang</td>\n",
       "      <td>Hujan Petir</td>\n",
       "      <td>65 - 95</td>\n",
       "      <td>22 - 31</td>\n",
       "    </tr>\n",
       "    <tr>\n",
       "      <th>3</th>\n",
       "      <td>2017-01-03</td>\n",
       "      <td>Jakarta Pusat</td>\n",
       "      <td>Malam</td>\n",
       "      <td>Hujan Ringan</td>\n",
       "      <td>65 - 95</td>\n",
       "      <td>22 - 31</td>\n",
       "    </tr>\n",
       "    <tr>\n",
       "      <th>4</th>\n",
       "      <td>2017-01-03</td>\n",
       "      <td>Jakarta Pusat</td>\n",
       "      <td>Pagi</td>\n",
       "      <td>Hujan Ringan</td>\n",
       "      <td>65 - 95</td>\n",
       "      <td>22 - 31</td>\n",
       "    </tr>\n",
       "  </tbody>\n",
       "</table>\n",
       "</div>"
      ],
      "text/plain": [
       "     tanggal        wilayah  waktu         cuaca kelembaban_persen  \\\n",
       "0 2017-01-03  Jakarta Barat  Malam  Hujan Ringan           65 - 95   \n",
       "1 2017-01-03  Jakarta Barat   Pagi  Hujan Ringan           65 - 95   \n",
       "2 2017-01-03  Jakarta Barat  Siang   Hujan Petir           65 - 95   \n",
       "3 2017-01-03  Jakarta Pusat  Malam  Hujan Ringan           65 - 95   \n",
       "4 2017-01-03  Jakarta Pusat   Pagi  Hujan Ringan           65 - 95   \n",
       "\n",
       "  suhu_derajat_celcius  \n",
       "0              22 - 31  \n",
       "1              22 - 31  \n",
       "2              22 - 31  \n",
       "3              22 - 31  \n",
       "4              22 - 31  "
      ]
     },
     "execution_count": 42,
     "metadata": {},
     "output_type": "execute_result"
    }
   ],
   "source": [
    "df = pd.read_csv(\"dataset.csv\",delimiter=\";\")\n",
    "df['tanggal'] = pd.to_datetime(df['tanggal'])\n",
    "df.head()"
   ]
  },
  {
   "cell_type": "markdown",
   "metadata": {},
   "source": [
    "# Data Cleaning"
   ]
  },
  {
   "cell_type": "code",
   "execution_count": 43,
   "metadata": {},
   "outputs": [
    {
     "name": "stdout",
     "output_type": "stream",
     "text": [
      "Data terdiri dari 14676 baris\n",
      "Data terdiri dari 6 \tkolom\n"
     ]
    }
   ],
   "source": [
    "print(\"Data terdiri dari\", df.shape[0], \"baris\")\n",
    "print(\"Data terdiri dari\", df.shape[1], \"\\tkolom\")"
   ]
  },
  {
   "cell_type": "code",
   "execution_count": 44,
   "metadata": {},
   "outputs": [
    {
     "name": "stdout",
     "output_type": "stream",
     "text": [
      "Missing Value\n",
      "tanggal                 0\n",
      "wilayah                 0\n",
      "waktu                   0\n",
      "cuaca                   0\n",
      "kelembaban_persen       0\n",
      "suhu_derajat_celcius    0\n",
      "dtype: int64\n",
      "\n",
      "Data Duplicate\n",
      "0\n"
     ]
    }
   ],
   "source": [
    "print(\"Missing Value\")\n",
    "print(df.isnull().sum())\n",
    "\n",
    "print(\"\\nData Duplicate\")\n",
    "print(df.duplicated().sum())"
   ]
  },
  {
   "cell_type": "code",
   "execution_count": 45,
   "metadata": {},
   "outputs": [
    {
     "name": "stdout",
     "output_type": "stream",
     "text": [
      "<class 'pandas.core.frame.DataFrame'>\n",
      "RangeIndex: 14676 entries, 0 to 14675\n",
      "Data columns (total 6 columns):\n",
      " #   Column                Non-Null Count  Dtype         \n",
      "---  ------                --------------  -----         \n",
      " 0   tanggal               14676 non-null  datetime64[ns]\n",
      " 1   wilayah               14676 non-null  object        \n",
      " 2   waktu                 14676 non-null  object        \n",
      " 3   cuaca                 14676 non-null  object        \n",
      " 4   kelembaban_persen     14676 non-null  object        \n",
      " 5   suhu_derajat_celcius  14676 non-null  object        \n",
      "dtypes: datetime64[ns](1), object(5)\n",
      "memory usage: 688.1+ KB\n"
     ]
    }
   ],
   "source": [
    "df.info()"
   ]
  },
  {
   "cell_type": "code",
   "execution_count": 46,
   "metadata": {},
   "outputs": [
    {
     "data": {
      "text/html": [
       "<div>\n",
       "<style scoped>\n",
       "    .dataframe tbody tr th:only-of-type {\n",
       "        vertical-align: middle;\n",
       "    }\n",
       "\n",
       "    .dataframe tbody tr th {\n",
       "        vertical-align: top;\n",
       "    }\n",
       "\n",
       "    .dataframe thead th {\n",
       "        text-align: right;\n",
       "    }\n",
       "</style>\n",
       "<table border=\"1\" class=\"dataframe\">\n",
       "  <thead>\n",
       "    <tr style=\"text-align: right;\">\n",
       "      <th></th>\n",
       "      <th>wilayah</th>\n",
       "      <th>waktu</th>\n",
       "      <th>cuaca</th>\n",
       "    </tr>\n",
       "  </thead>\n",
       "  <tbody>\n",
       "    <tr>\n",
       "      <th>count</th>\n",
       "      <td>14676</td>\n",
       "      <td>14676</td>\n",
       "      <td>14676</td>\n",
       "    </tr>\n",
       "    <tr>\n",
       "      <th>unique</th>\n",
       "      <td>6</td>\n",
       "      <td>8</td>\n",
       "      <td>33</td>\n",
       "    </tr>\n",
       "    <tr>\n",
       "      <th>top</th>\n",
       "      <td>Jakarta Barat</td>\n",
       "      <td>Malam</td>\n",
       "      <td>Cerah Berawan</td>\n",
       "    </tr>\n",
       "    <tr>\n",
       "      <th>freq</th>\n",
       "      <td>2446</td>\n",
       "      <td>3354</td>\n",
       "      <td>5111</td>\n",
       "    </tr>\n",
       "  </tbody>\n",
       "</table>\n",
       "</div>"
      ],
      "text/plain": [
       "              wilayah  waktu          cuaca\n",
       "count           14676  14676          14676\n",
       "unique              6      8             33\n",
       "top     Jakarta Barat  Malam  Cerah Berawan\n",
       "freq             2446   3354           5111"
      ]
     },
     "execution_count": 46,
     "metadata": {},
     "output_type": "execute_result"
    }
   ],
   "source": [
    "categoric = ['wilayah', 'waktu', 'cuaca']\n",
    "df[categoric].describe()"
   ]
  },
  {
   "cell_type": "code",
   "execution_count": 50,
   "metadata": {},
   "outputs": [
    {
     "name": "stdout",
     "output_type": "stream",
     "text": [
      "Date Minimum 2017-01-03 00:00:00 \tDate Maximum 2018-12-31 00:00:00\n"
     ]
    }
   ],
   "source": [
    "print(\"Date Minimum\", df[\"tanggal\"].min(), \"\\tDate Maximum\", df[\"tanggal\"].max())"
   ]
  },
  {
   "cell_type": "markdown",
   "metadata": {},
   "source": [
    "# Preprocessing"
   ]
  },
  {
   "cell_type": "code",
   "execution_count": null,
   "metadata": {},
   "outputs": [],
   "source": []
  }
 ],
 "metadata": {
  "kernelspec": {
   "display_name": "Python 3.10.1 64-bit",
   "language": "python",
   "name": "python3"
  },
  "language_info": {
   "codemirror_mode": {
    "name": "ipython",
    "version": 3
   },
   "file_extension": ".py",
   "mimetype": "text/x-python",
   "name": "python",
   "nbconvert_exporter": "python",
   "pygments_lexer": "ipython3",
   "version": "3.10.1"
  },
  "orig_nbformat": 4,
  "vscode": {
   "interpreter": {
    "hash": "2469a70536e4d2335a2ea8907942d0699c37342a371ac185bdb5b0aa6f073890"
   }
  }
 },
 "nbformat": 4,
 "nbformat_minor": 2
}
